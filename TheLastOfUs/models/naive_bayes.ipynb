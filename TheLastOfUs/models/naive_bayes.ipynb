{
 "cells": [
  {
   "cell_type": "code",
   "execution_count": 118,
   "id": "337ca943",
   "metadata": {},
   "outputs": [],
   "source": [
    "# set up libraries\n",
    "import numpy as np\n",
    "import pandas as pd\n",
    "from sklearn.preprocessing import OrdinalEncoder\n",
    "from sklearn.naive_bayes import CategoricalNB\n",
    "from model_evaluation import Evaluation"
   ]
  },
  {
   "cell_type": "code",
   "execution_count": 88,
   "id": "a2edc7d2",
   "metadata": {},
   "outputs": [],
   "source": [
    "# load datasets\n",
    "X_train = pd.read_csv(\"X_train.csv\")\n",
    "X_val = pd.read_csv(\"X_val.csv\")\n",
    "X_test = pd.read_csv(\"X_test.csv\")\n",
    "y_train = pd.read_csv(\"y_train.csv\")\n",
    "y_val = pd.read_csv(\"y_val.csv\")\n",
    "y_test = pd.read_csv(\"y_test.csv\")\n",
    "\n",
    "y_train = y_train.to_numpy().flatten()\n",
    "y_val = y_val.to_numpy().flatten()\n",
    "y_test = y_test.to_numpy().flatten()"
   ]
  },
  {
   "cell_type": "code",
   "execution_count": 92,
   "id": "079a8e14",
   "metadata": {},
   "outputs": [],
   "source": [
    "# for Naive Bayes, we do not use one-hot encoding.\n",
    "# convert one-hot encoding to ordinal encoding-\n",
    "# https://stackoverflow.com/questions/50607740/reverse-a-get-dummies-encoding-in-pandas\n",
    "def undummify(df, prefix_sep=\"_\"):\n",
    "    cols2collapse = {\n",
    "        item.split(prefix_sep)[0]: (prefix_sep in item) for item in df.columns\n",
    "    }\n",
    "    series_list = []\n",
    "    for col, needs_to_collapse in cols2collapse.items():\n",
    "        if needs_to_collapse:\n",
    "            undummified = (\n",
    "                df.filter(like=col)\n",
    "                .idxmax(axis=1)\n",
    "                .apply(lambda x: x.split(prefix_sep, maxsplit=1)[1])\n",
    "                .rename(col)\n",
    "            )\n",
    "            series_list.append(undummified)\n",
    "        else:\n",
    "            series_list.append(df[col])\n",
    "    undummified_df = pd.concat(series_list, axis=1)\n",
    "    return undummified_df"
   ]
  },
  {
   "cell_type": "code",
   "execution_count": 93,
   "id": "d47d0b15",
   "metadata": {},
   "outputs": [],
   "source": [
    "X_train.rename({'CRASH_DATE_dayofweek': 'dayofweek', 'CRASH_TIME_hour': 'hour'}, axis=1, inplace=True)\n",
    "X_val.rename({'CRASH_DATE_dayofweek': 'dayofweek', 'CRASH_TIME_hour': 'hour'}, axis=1, inplace=True)\n",
    "X_test.rename({'CRASH_DATE_dayofweek': 'dayofweek', 'CRASH_TIME_hour': 'hour'}, axis=1, inplace=True)"
   ]
  },
  {
   "cell_type": "code",
   "execution_count": 94,
   "id": "f8a7ad4f",
   "metadata": {},
   "outputs": [],
   "source": [
    "X_train = undummify(X_train)\n",
    "X_val = undummify(X_val)\n",
    "X_test = undummify(X_test)"
   ]
  },
  {
   "cell_type": "code",
   "execution_count": 95,
   "id": "d8cf8365",
   "metadata": {},
   "outputs": [],
   "source": [
    "enc = OrdinalEncoder()\n",
    "enc.fit(X_train[[\"SUBURB\", \"CRASH\", \"LIGHTING\", \"ROAD\", \"WEATHER\"]])\n",
    "X_train[[\"SUBURB\", \"CRASH\", \"LIGHTING\", \"ROAD\", \"WEATHER\"]] = enc.transform(X_train[[\"SUBURB\", \"CRASH\", \"LIGHTING\", \"ROAD\", \"WEATHER\"]])\n",
    "X_val[[\"SUBURB\", \"CRASH\", \"LIGHTING\", \"ROAD\", \"WEATHER\"]] = enc.transform(X_val[[\"SUBURB\", \"CRASH\", \"LIGHTING\", \"ROAD\", \"WEATHER\"]])\n",
    "X_test[[\"SUBURB\", \"CRASH\", \"LIGHTING\", \"ROAD\", \"WEATHER\"]] = enc.transform(X_test[[\"SUBURB\", \"CRASH\", \"LIGHTING\", \"ROAD\", \"WEATHER\"]])"
   ]
  },
  {
   "cell_type": "code",
   "execution_count": 96,
   "id": "cdad2b7b",
   "metadata": {},
   "outputs": [],
   "source": [
    "X_train[\"DISTANCE\"] = pd.cut(X_train[\"DISTANCE\"], bins=[0,0.1,0.2,0.3,0.4,0.5,0.6,0.7,0.8,0.9,1],labels=[0,1,2,3,4,5,6,7,8,9])\n",
    "X_val[\"DISTANCE\"] = pd.cut(X_val[\"DISTANCE\"], bins=[0,0.1,0.2,0.3,0.4,0.5,0.6,0.7,0.8,0.9,1],labels=[0,1,2,3,4,5,6,7,8,9])\n",
    "X_test[\"DISTANCE\"] = pd.cut(X_test[\"DISTANCE\"], bins=[0,0.1,0.2,0.3,0.4,0.5,0.6,0.7,0.8,0.9,1],labels=[0,1,2,3,4,5,6,7,8,9])"
   ]
  },
  {
   "cell_type": "code",
   "execution_count": 107,
   "id": "25c15b74",
   "metadata": {},
   "outputs": [],
   "source": [
    "model = CategoricalNB()\n",
    "model.fit(X_train, y_train)\n",
    "train_pred = model.predict(X_train)\n",
    "test_pred = model.predict(X_test)"
   ]
  },
  {
   "cell_type": "code",
   "execution_count": 104,
   "id": "b0431cf9",
   "metadata": {},
   "outputs": [
    {
     "name": "stdout",
     "output_type": "stream",
     "text": [
      "Accuracy on train data = 0.9154 \n"
     ]
    }
   ],
   "source": [
    "acc_train = model.score(X_train, y_train)\n",
    "print(\"Accuracy on train data = %0.4f \" % acc_train)"
   ]
  },
  {
   "cell_type": "code",
   "execution_count": 113,
   "id": "05efd88f",
   "metadata": {},
   "outputs": [
    {
     "name": "stdout",
     "output_type": "stream",
     "text": [
      "Evaluate model performance on train data\n",
      "Accuracy: 0.9153806823463791\n",
      "Recall: 0.4030787393186451\n",
      "Precision: 0.4910759560229998\n",
      "F1 Score: 0.40084684283047983\n",
      "49\n"
     ]
    },
    {
     "data": {
      "image/png": "[encoded data removed]",
      "text/plain": [
       "<Figure size 432x288 with 2 Axes>"
      ]
     },
     "metadata": {
      "needs_background": "light"
     },
     "output_type": "display_data"
    }
   ],
   "source": [
    "eva = Evaluation()\n",
    "print(\"Evaluate model performance on train data\")\n",
    "print(\"Accuracy:\", eva.accuracy(train_pred, y_train))\n",
    "print(\"Recall:\", eva.recall(train_pred, y_train))\n",
    "print(\"Precision:\", eva.precision(train_pred, y_train))\n",
    "print(\"F1 Score:\", eva.f1_score(train_pred, y_train))\n",
    "print(np.count_nonzero(y_train == \"Fatal\"))\n",
    "eva_conf = eva.confusion(train_pred, y_train)\n",
    "eva.plot_confusion(eva_conf)"
   ]
  },
  {
   "cell_type": "code",
   "execution_count": 112,
   "id": "1c0449c6",
   "metadata": {},
   "outputs": [
    {
     "name": "stdout",
     "output_type": "stream",
     "text": [
      "Evaluate model performance on test data\n",
      "Accuracy: 0.9118733877152618\n",
      "Recall: 0.36403442132146124\n",
      "Precision: 0.4541500047605446\n",
      "F1 Score: 0.37540615354183743\n",
      "16\n"
     ]
    },
    {
     "data": {
      "image/png": "[encoded data removed]",
      "text/plain": [
       "<Figure size 432x288 with 2 Axes>"
      ]
     },
     "metadata": {
      "needs_background": "light"
     },
     "output_type": "display_data"
    }
   ],
   "source": [
    "eva = Evaluation()\n",
    "print(\"Evaluate model performance on test data\")\n",
    "print(\"Accuracy:\", eva.accuracy(test_pred, y_test))\n",
    "print(\"Recall:\", eva.recall(test_pred, y_test))\n",
    "print(\"Precision:\", eva.precision(test_pred, y_test))\n",
    "print(\"F1 Score:\", eva.f1_score(test_pred, y_test))\n",
    "print(np.count_nonzero(y_test == \"Fatal\"))\n",
    "eva_conf = eva.confusion(test_pred, y_test)\n",
    "eva.plot_confusion(eva_conf)"
   ]
  },
  {
   "cell_type": "code",
   "execution_count": 117,
   "id": "d859acfd",
   "metadata": {},
   "outputs": [
    {
     "name": "stdout",
     "output_type": "stream",
     "text": [
      "Evaluate model performance on test data, given pred is only 'Property Damage Only'\n",
      "Accuracy: 0.9169629784563899\n",
      "Recall: 0.3333333333333333\n",
      "Precision: 0.30565432615212995\n",
      "F1 Score: 0.3188943444262593\n",
      "16\n"
     ]
    },
    {
     "name": "stderr",
     "output_type": "stream",
     "text": [
      "/Users/ady/opt/anaconda3/lib/python3.9/site-packages/sklearn/metrics/_classification.py:1248: UndefinedMetricWarning: Precision is ill-defined and being set to 0.0 in labels with no predicted samples. Use `zero_division` parameter to control this behavior.\n",
      "  _warn_prf(average, modifier, msg_start, len(result))\n"
     ]
    },
    {
     "data": {
      "image/png": "[encoded data removed]",
      "text/plain": [
       "<Figure size 432x288 with 2 Axes>"
      ]
     },
     "metadata": {
      "needs_background": "light"
     },
     "output_type": "display_data"
    }
   ],
   "source": [
    "eva = Evaluation()\n",
    "pred = np.full(len(y_test), 'Property Damage Only')\n",
    "print(\"Evaluate model performance on test data, given pred is only 'Property Damage Only'\")\n",
    "print(\"Accuracy:\", eva.accuracy(pred, y_test))\n",
    "print(\"Recall:\", eva.recall(pred, y_test))\n",
    "print(\"Precision:\", eva.precision(pred, y_test))\n",
    "print(\"F1 Score:\", eva.f1_score(pred, y_test))\n",
    "print(np.count_nonzero(y_test == \"Fatal\"))\n",
    "eva_conf = eva.confusion(pred, y_test)\n",
    "eva.plot_confusion(eva_conf)"
   ]
  },
  {
   "cell_type": "code",
   "execution_count": null,
   "id": "b32d4f26",
   "metadata": {},
   "outputs": [],
   "source": []
  }
 ],
 "metadata": {
  "kernelspec": {
   "display_name": "Python 3 (ipykernel)",
   "language": "python",
   "name": "python3"
  },
  "language_info": {
   "codemirror_mode": {
    "name": "ipython",
    "version": 3
   },
   "file_extension": ".py",
   "mimetype": "text/x-python",
   "name": "python",
   "nbconvert_exporter": "python",
   "pygments_lexer": "ipython3",
   "version": "3.9.7"
  }
 },
 "nbformat": 4,
 "nbformat_minor": 5
}
